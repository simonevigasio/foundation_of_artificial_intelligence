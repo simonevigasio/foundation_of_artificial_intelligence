{
  "nbformat": 4,
  "nbformat_minor": 0,
  "metadata": {
    "colab": {
      "provenance": []
    },
    "kernelspec": {
      "name": "python3",
      "display_name": "Python 3"
    },
    "language_info": {
      "name": "python"
    }
  },
  "cells": [
    {
      "cell_type": "markdown",
      "source": [
        "# Problem Definition"
      ],
      "metadata": {
        "id": "Su4akqmeFT_h"
      }
    },
    {
      "cell_type": "code",
      "execution_count": null,
      "metadata": {
        "id": "lEMjJobiFIwX"
      },
      "outputs": [],
      "source": [
        "class Problem(object):\n",
        "  \"\"\"Problem definition\"\"\"\n",
        "\n",
        "  def __init__(self, initial=None, goal=None):\n",
        "    \"\"\"Create a Problem instance, given an initial state and a goal state\"\"\"\n",
        "    self.initial = initial\n",
        "    self.goal = goal\n",
        "\n",
        "  def actions(self, state): raise NotImplementedError\n",
        "  def result(self, state, action): raise NotImplementedError\n",
        "  def is_goal(self, state): return state == self.goal\n",
        "  def action_cost(self, s, a, s1): return 1\n",
        "  def h(self, node): return 0"
      ]
    },
    {
      "cell_type": "code",
      "source": [
        "class Node():\n",
        "  \"\"\"A Node in a search tree\"\"\"\n",
        "\n",
        "  def __init__(self, state, parent=None, action=None, path_cost=0):\n",
        "    \"\"\"Create a search tree Node, derived from a parent by an action\"\"\"\n",
        "    self.state = state\n",
        "    self.parent = parent\n",
        "    self.action = action\n",
        "    self.path_cost = path_cost\n",
        "    self.depth = 0\n",
        "    if parent:\n",
        "      self.depth = parent.depth + 1\n",
        "\n",
        "  def __len__(self): return 0 if self.parent is None else (1 + len(self.parent))\n",
        "\n",
        "  def expand(self, problem):\n",
        "    \"\"\"List the nodes reachable in one step from this node\"\"\"\n",
        "    return  [self.child_node(problem, action) for action in problem.actions(self.state)]\n",
        "\n",
        "  def child_node(self, problem, action):\n",
        "    \"\"\"Given an action, visualize the next node of the search tree\"\"\"\n",
        "    next_state = problem.result(self.state, action)\n",
        "    next_node = next_node = Node(next_state, self, action, self.path_cost + problem.action_cost(self.state, action, next_state))\n",
        "    return next_node"
      ],
      "metadata": {
        "id": "Mft3aTbLSpyU"
      },
      "execution_count": null,
      "outputs": []
    },
    {
      "cell_type": "markdown",
      "source": [
        "# Frontier Data Structures\n"
      ],
      "metadata": {
        "id": "CjFkvUANbFR3"
      }
    },
    {
      "cell_type": "code",
      "source": [
        "from collections import deque\n",
        "FIFOQueue = deque # First-in First-out Queue\n",
        "LIFOQueue = list # Last-in First-out Queue\n",
        "\n",
        "import heapq # Heap data structure\n",
        "class PriorityQueue():\n",
        "  \"\"\"A queue in which the item with minimum f(item) is always popped first\"\"\"\n",
        "\n",
        "  def __init__(self, items=(), key=lambda x: x):\n",
        "    \"\"\"Create the priority queue given a score function key, and a set of items\"\"\"\n",
        "    self.key = key # function for finding the score given the item\n",
        "    self.items = [] # a heap of (score, item) pairs\n",
        "    for item in items:\n",
        "      self.add(item)\n",
        "\n",
        "  def add(self, item):\n",
        "    \"\"\"Add item to the queue\"\"\"\n",
        "    pair = (self.key(item), item)\n",
        "    heapq.heappush(self.items, pair)\n",
        "\n",
        "  def pop(self):\n",
        "    \"\"\"Pop and return the item with min f(item) value\"\"\"\n",
        "    return heapq.heappop(self.items)[1]"
      ],
      "metadata": {
        "id": "msv23rncbSn8"
      },
      "execution_count": null,
      "outputs": []
    },
    {
      "cell_type": "markdown",
      "source": [
        "# Breath-first Search Algorithm"
      ],
      "metadata": {
        "id": "WDnjzXtx0uoe"
      }
    },
    {
      "cell_type": "code",
      "source": [
        "def breadth_first_search(problem):\n",
        "  \"\"\"Search shallowest nodes in the search tree first\"\"\"\n",
        "  node = Node(problem.initial)\n",
        "  if problem.is_goal(problem.initial):\n",
        "    return node\n",
        "  frontier = FIFOQueue([node])\n",
        "  reached = {problem.initial}\n",
        "  while frontier:\n",
        "    node = frontier.pop()\n",
        "    for child in node.expand(problem):\n",
        "      s = child.state\n",
        "      if problem.is_goal(s):\n",
        "        return child\n",
        "      if s not in reached:\n",
        "        reached.add(s)\n",
        "        frontier.appendleft(child)\n",
        "\n",
        "  import math\n",
        "  return Node('failure', path_cost=math.inf)"
      ],
      "metadata": {
        "id": "eYBxXf5v0zY9"
      },
      "execution_count": null,
      "outputs": []
    },
    {
      "cell_type": "markdown",
      "source": [
        "# Depth-first Search Algorithm"
      ],
      "metadata": {
        "id": "9cW3jd3C059y"
      }
    },
    {
      "cell_type": "code",
      "source": [
        "def is_cycle(node, k=30):\n",
        "  \"Does this node form a cycle of length k or less?\"\n",
        "  def find_cycle(ancestor, k):\n",
        "    return ancestor is not None and k > 0 and (ancestor.state == node.state or find_cycle(ancestor.parent, k - 1))\n",
        "  return find_cycle(node.parent, k)"
      ],
      "metadata": {
        "id": "ey4ol4wx3tFO"
      },
      "execution_count": null,
      "outputs": []
    },
    {
      "cell_type": "code",
      "source": [
        "def depth_first_search_recursive(problem, node=None):\n",
        "  if node is None:\n",
        "    node = Node(problem.initial)\n",
        "  if problem.is_goal(node.state):\n",
        "    return node\n",
        "  elif is_cycle(node):\n",
        "    import math\n",
        "    return Node('failure', path_cost=math.inf)\n",
        "  else:\n",
        "    for child in node.expand(problem):\n",
        "      result = depth_first_search_recursive(problem, child)\n",
        "      if result:\n",
        "        return result\n",
        "    import math\n",
        "    return Node('failure', path_cost=math.inf)"
      ],
      "metadata": {
        "id": "ujGHXzmm1AOs"
      },
      "execution_count": null,
      "outputs": []
    },
    {
      "cell_type": "code",
      "source": [
        "def depth_first_search_iterative(problem):\n",
        "  \"Search deepest nodes in the search tree first\"\n",
        "  frontier = LIFOQueue([Node(problem.initial)])\n",
        "  import math\n",
        "  result = Node('failure', path_cost=math.inf)\n",
        "  while frontier:\n",
        "    node = frontier.pop()\n",
        "    if problem.is_goal(node.state):\n",
        "      return node\n",
        "    elif not is_cycle(node):\n",
        "      for child in node.expand(problem):\n",
        "        frontier.append(child)\n",
        "  return result"
      ],
      "metadata": {
        "id": "nQidCDptl9oW"
      },
      "execution_count": null,
      "outputs": []
    },
    {
      "cell_type": "markdown",
      "source": [
        "# Depth-limited Search Algorithm"
      ],
      "metadata": {
        "id": "25hN1JL3oU7j"
      }
    },
    {
      "cell_type": "code",
      "source": [
        "def depth_limited_search(problem, limit=10):\n",
        "  \"Search deepest nodes in the search tree first\"\n",
        "  frontier = LIFOQueue([Node(problem.initial)])\n",
        "  import math\n",
        "  result = Node('failure', path_cost=math.inf)\n",
        "  while frontier:\n",
        "    node = frontier.pop()\n",
        "    if problem.is_goal(node.state):\n",
        "      return Node('cutoff', path_cost=math.inf)\n",
        "    elif len(node) >= limit:\n",
        "      result = Node('cutoff', path_cost=math.inf)\n",
        "    elif not is_cycle(node):\n",
        "      for child in node.expand(problem):\n",
        "        frontier.append(child)\n",
        "  return result"
      ],
      "metadata": {
        "id": "bHwQiX9wokOg"
      },
      "execution_count": null,
      "outputs": []
    },
    {
      "cell_type": "code",
      "source": [
        "def iterative_deepening_search(problem):\n",
        "  \"Do depth-limited search with increasing depth limits\"\n",
        "  import sys, math\n",
        "  for limit in range(1, sys.maxsize):\n",
        "    result = depth_limited_search(problem, limit)\n",
        "    if result != Node('cutoff', path_cost=math.inf):\n",
        "      return result"
      ],
      "metadata": {
        "id": "N7ONxLXCo-oc"
      },
      "execution_count": null,
      "outputs": []
    },
    {
      "cell_type": "markdown",
      "source": [
        "# Best-first Search Algorithms\n",
        "\n",
        "Best-first search is a class of search algorithms, which explores a graph by expanding the most promising node chosen according to a specified rule."
      ],
      "metadata": {
        "id": "1FIl9v8qgslZ"
      }
    },
    {
      "cell_type": "code",
      "source": [
        "def best_first_search(problem, f):\n",
        "  \"Search nodes with minimum f(node) value first\"\n",
        "  node = Node(problem.initial)\n",
        "  frontier = PriorityQueue([node], key=f)\n",
        "  reached = {problem.initial: node}\n",
        "  while frontier:\n",
        "    node = frontier.pop()\n",
        "    if problem.is_goal(node.state):\n",
        "      return node\n",
        "    for child in node.expand(problem):\n",
        "      s = child.state\n",
        "      if s not in reached or child.path_cost < reached[s].path_cost:\n",
        "        reached[s] = child\n",
        "        frontier.add(child)\n",
        "\n",
        "  import math\n",
        "  return Node('failure', path_cost=math.inf)"
      ],
      "metadata": {
        "id": "v2tVpotWhJ1o"
      },
      "execution_count": null,
      "outputs": []
    },
    {
      "cell_type": "code",
      "source": [
        "def breadth_first_search_bfs(problem):\n",
        "  \"Search shallowest nodes in the search tree first; using best-first\"\n",
        "  return best_first_search(problem, f=len)"
      ],
      "metadata": {
        "id": "XlBTaZyOuY4p"
      },
      "execution_count": null,
      "outputs": []
    },
    {
      "cell_type": "code",
      "source": [
        "def g(n): return n.path_cost\n",
        "def uniform_cost_search(problem):\n",
        "  \"Search nodes with minimum path cost first.\"\n",
        "  return best_first_search(problem, f=g)"
      ],
      "metadata": {
        "id": "mEJY-j7U0ssL"
      },
      "execution_count": null,
      "outputs": []
    },
    {
      "cell_type": "code",
      "source": [
        "def depth_first_search_bfs(problem):\n",
        "  \"Search deepest nodes in the search tree first; using best-first.\"\n",
        "  return best_first_search(problem, f=lambda n: -len(n))"
      ],
      "metadata": {
        "id": "hPksCyQP1CRE"
      },
      "execution_count": null,
      "outputs": []
    },
    {
      "cell_type": "code",
      "source": [
        "def greedy_bfs(problem, h=None):\n",
        "  \"\"\"Search nodes with minimum h(n).\"\"\"\n",
        "  h = h or problem.h\n",
        "  return best_first_search(problem, f=h)"
      ],
      "metadata": {
        "id": "JpB7iklBjXg9"
      },
      "execution_count": null,
      "outputs": []
    },
    {
      "cell_type": "code",
      "source": [
        "def g(n): return n.path_cost\n",
        "def astar_search(problem, h=None):\n",
        "  \"\"\"Search nodes with minimum f(n) = g(n) + h(n).\"\"\"\n",
        "  h = h or problem.h\n",
        "  return best_first_search(problem, f=lambda n: g(n) + h(n))"
      ],
      "metadata": {
        "id": "r9Po9UdehE-V"
      },
      "execution_count": null,
      "outputs": []
    },
    {
      "cell_type": "code",
      "source": [
        "def g(n): return n.path_cost\n",
        "def weighted_astar_search(problem, h=None, weight=1.4):\n",
        "  \"\"\"Search nodes with minimum f(n) = g(n) + weight * h(n).\"\"\"\n",
        "  h = h or problem.h\n",
        "  return best_first_search(problem, f=lambda n: g(n) + weight * h(n))"
      ],
      "metadata": {
        "id": "GpG-5rNMwOIv"
      },
      "execution_count": null,
      "outputs": []
    },
    {
      "cell_type": "markdown",
      "source": [
        "# Exercies"
      ],
      "metadata": {
        "id": "YY2pMIfXdxum"
      }
    },
    {
      "cell_type": "markdown",
      "source": [
        "# 8-Puzzle Problem"
      ],
      "metadata": {
        "id": "ifYiVdjdyJ01"
      }
    },
    {
      "cell_type": "code",
      "source": [
        "class EightPuzzle(Problem):\n",
        "\n",
        "  def __init__(self, initial, goal=(0, 1, 2, 3, 4, 5, 6, 7, 8)):\n",
        "    self.initial = initial\n",
        "    self.goal = goal\n",
        "\n",
        "  def actions(self, state):\n",
        "    # the state is considered as a tuple of length 9 --> 9 blicks with a blank one\n",
        "    moves = ((1, 3), (0, 2, 4), (1, 5), (0, 4, 6), (3, 1, 5, 7), (2, 4, 8), (3, 7), (4, 6, 8), (5, 7)) # there can I move the value from the index-position\n",
        "    blank = state.index(0) # get the index of the value 0 into the tuple\n",
        "    return moves[blank] # return the available moves in that index-positionù\n",
        "\n",
        "  def result(self, state, action):\n",
        "    s = list(state)\n",
        "    blank = state.index(0)\n",
        "    s[action], s[blank] = s[blank], s[action]\n",
        "    return tuple(s)"
      ],
      "metadata": {
        "id": "x9vmBjRIyPwE"
      },
      "execution_count": null,
      "outputs": []
    },
    {
      "cell_type": "code",
      "source": [
        "def path_states(node):\n",
        "  \"The sequence of states to get to this node.\"\n",
        "  import math\n",
        "  if node in (Node('cutoff', path_cost=math.inf), Node('failure', path_cost=math.inf), None): return []\n",
        "  return path_states(node.parent) + [node.state]"
      ],
      "metadata": {
        "id": "IX5rRXyu1126"
      },
      "execution_count": null,
      "outputs": []
    },
    {
      "cell_type": "code",
      "source": [
        "e1 = EightPuzzle((8, 6, 7, 2, 5, 4, 3, 0, 1))"
      ],
      "metadata": {
        "id": "4oXSzPBc2Guw"
      },
      "execution_count": null,
      "outputs": []
    },
    {
      "cell_type": "code",
      "source": [
        "for s in path_states(breadth_first_search(e1)): print(s)"
      ],
      "metadata": {
        "colab": {
          "base_uri": "https://localhost:8080/"
        },
        "id": "7Sz0pCDE2MvY",
        "outputId": "45ea4324-51d5-4dee-e582-b560ba909f8a"
      },
      "execution_count": null,
      "outputs": [
        {
          "output_type": "stream",
          "name": "stdout",
          "text": [
            "(8, 6, 7, 2, 5, 4, 3, 0, 1)\n",
            "(8, 6, 7, 2, 0, 4, 3, 5, 1)\n",
            "(8, 6, 7, 2, 4, 0, 3, 5, 1)\n",
            "(8, 6, 7, 2, 4, 1, 3, 5, 0)\n",
            "(8, 6, 7, 2, 4, 1, 3, 0, 5)\n",
            "(8, 6, 7, 2, 0, 1, 3, 4, 5)\n",
            "(8, 0, 7, 2, 6, 1, 3, 4, 5)\n",
            "(0, 8, 7, 2, 6, 1, 3, 4, 5)\n",
            "(2, 8, 7, 0, 6, 1, 3, 4, 5)\n",
            "(2, 8, 7, 3, 6, 1, 0, 4, 5)\n",
            "(2, 8, 7, 3, 6, 1, 4, 0, 5)\n",
            "(2, 8, 7, 3, 0, 1, 4, 6, 5)\n",
            "(2, 0, 7, 3, 8, 1, 4, 6, 5)\n",
            "(0, 2, 7, 3, 8, 1, 4, 6, 5)\n",
            "(3, 2, 7, 0, 8, 1, 4, 6, 5)\n",
            "(3, 2, 7, 4, 8, 1, 0, 6, 5)\n",
            "(3, 2, 7, 4, 8, 1, 6, 0, 5)\n",
            "(3, 2, 7, 4, 0, 1, 6, 8, 5)\n",
            "(3, 2, 7, 4, 1, 0, 6, 8, 5)\n",
            "(3, 2, 0, 4, 1, 7, 6, 8, 5)\n",
            "(3, 0, 2, 4, 1, 7, 6, 8, 5)\n",
            "(3, 1, 2, 4, 0, 7, 6, 8, 5)\n",
            "(3, 1, 2, 4, 7, 0, 6, 8, 5)\n",
            "(3, 1, 2, 4, 7, 5, 6, 8, 0)\n",
            "(3, 1, 2, 4, 7, 5, 6, 0, 8)\n",
            "(3, 1, 2, 4, 0, 5, 6, 7, 8)\n",
            "(3, 1, 2, 0, 4, 5, 6, 7, 8)\n",
            "(0, 1, 2, 3, 4, 5, 6, 7, 8)\n"
          ]
        }
      ]
    },
    {
      "cell_type": "markdown",
      "source": [
        "# 8-Queens Puzzle Problem"
      ],
      "metadata": {
        "id": "m1yNyWH6ySQP"
      }
    },
    {
      "cell_type": "code",
      "source": [],
      "metadata": {
        "id": "6iFRODHpyUM_"
      },
      "execution_count": null,
      "outputs": []
    }
  ]
}