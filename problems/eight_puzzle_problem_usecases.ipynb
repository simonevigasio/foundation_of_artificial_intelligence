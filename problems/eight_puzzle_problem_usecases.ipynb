{
 "cells": [
  {
   "cell_type": "code",
   "execution_count": 4,
   "metadata": {},
   "outputs": [],
   "source": [
    "# Enable the filesystem to access the parent directory and specific subdirectories.\n",
    "import sys\n",
    "sys.path.append('../')  # Add the parent directory to the system path for module imports.\n",
    "\n",
    "from eight_puzzle_problem import EightPuzzle\n",
    "from utility import path_states\n",
    "\n",
    "# Import uninformed search algorithms for resolving the problem.\n",
    "from uninformed_search.uniform_cost_search import uniform_cost_search # Import the uniform-cost search algorithm."
   ]
  },
  {
   "cell_type": "code",
   "execution_count": 5,
   "metadata": {},
   "outputs": [
    {
     "name": "stdout",
     "output_type": "stream",
     "text": [
      "(8, 6, 7, 2, 5, 4, 3, 0, 1)\n",
      "(8, 6, 7, 2, 0, 4, 3, 5, 1)\n",
      "(8, 6, 7, 2, 4, 0, 3, 5, 1)\n",
      "(8, 6, 7, 2, 4, 1, 3, 5, 0)\n",
      "(8, 6, 7, 2, 4, 1, 3, 0, 5)\n",
      "(8, 6, 7, 2, 0, 1, 3, 4, 5)\n",
      "(8, 0, 7, 2, 6, 1, 3, 4, 5)\n",
      "(0, 8, 7, 2, 6, 1, 3, 4, 5)\n",
      "(2, 8, 7, 0, 6, 1, 3, 4, 5)\n",
      "(2, 8, 7, 3, 6, 1, 0, 4, 5)\n",
      "(2, 8, 7, 3, 6, 1, 4, 0, 5)\n",
      "(2, 8, 7, 3, 0, 1, 4, 6, 5)\n",
      "(2, 0, 7, 3, 8, 1, 4, 6, 5)\n",
      "(0, 2, 7, 3, 8, 1, 4, 6, 5)\n",
      "(3, 2, 7, 0, 8, 1, 4, 6, 5)\n",
      "(3, 2, 7, 4, 8, 1, 0, 6, 5)\n",
      "(3, 2, 7, 4, 8, 1, 6, 0, 5)\n",
      "(3, 2, 7, 4, 0, 1, 6, 8, 5)\n",
      "(3, 2, 7, 4, 1, 0, 6, 8, 5)\n",
      "(3, 2, 0, 4, 1, 7, 6, 8, 5)\n",
      "(3, 0, 2, 4, 1, 7, 6, 8, 5)\n",
      "(3, 1, 2, 4, 0, 7, 6, 8, 5)\n",
      "(3, 1, 2, 4, 7, 0, 6, 8, 5)\n",
      "(3, 1, 2, 4, 7, 5, 6, 8, 0)\n",
      "(3, 1, 2, 4, 7, 5, 6, 0, 8)\n",
      "(3, 1, 2, 4, 0, 5, 6, 7, 8)\n",
      "(3, 1, 2, 0, 4, 5, 6, 7, 8)\n",
      "(0, 1, 2, 3, 4, 5, 6, 7, 8)\n"
     ]
    }
   ],
   "source": [
    "# Create an instance of the EightPuzzle problem with a specific initial state.\n",
    "e1 = EightPuzzle((8, 6, 7, 2, 5, 4, 3, 0, 1))\n",
    "\n",
    "# Perform a breadth-first search to solve the puzzle and print the path of states.\n",
    "for s in path_states(uniform_cost_search(e1)):\n",
    "    print(s)  # Print each state in the path from the initial to the goal state."
   ]
  }
 ],
 "metadata": {
  "kernelspec": {
   "display_name": ".venv",
   "language": "python",
   "name": "python3"
  },
  "language_info": {
   "codemirror_mode": {
    "name": "ipython",
    "version": 3
   },
   "file_extension": ".py",
   "mimetype": "text/x-python",
   "name": "python",
   "nbconvert_exporter": "python",
   "pygments_lexer": "ipython3",
   "version": "3.12.3"
  }
 },
 "nbformat": 4,
 "nbformat_minor": 2
}
